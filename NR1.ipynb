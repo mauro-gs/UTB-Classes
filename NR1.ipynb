{
 "cells": [
  {
   "attachments": {},
   "cell_type": "markdown",
   "metadata": {},
   "source": [
    "## METODO DE NEWTON-RAPHSON\n",
    "\n",
    "### EJERCICIO NUMÉRICO\n",
    "\n",
    "#### Análisis de Sistemas de Potencia\n",
    "#### Mauro Gonzalez\n",
    "#### Universidad Tecnológica de Bolívar\n",
    "\n",
    "##### El metodo de Newton-Raphson busca solucionar de manera iterativa un sistemas de ecuaciones no lineales a partir de su expansión de serie de Taylos de primer orden:\n",
    "\n",
    "$$ \n",
    "\n",
    "f(x^{(0)}) + (x-x^{(0)})f'(x^{(0)}) = 0\n",
    "\n",
    "$$\n",
    "\n",
    "#### Despejando x obtenemos:\n",
    "\n",
    "$$ \n",
    "x^{(k+1)} = x^{(k)} - f(x^{(k)})/f'(x^{(k)})\n",
    "$$\n",
    "\n",
    "#### Aplicando la ecuación anterior iterativamente se llega a la convergencia cuando $ |f|<e $\n",
    "\n",
    "#### Si se parte del siguiente sistema de ecuaciones no lineal:\n",
    "\n",
    "$$\n",
    "\n",
    "f_1(x_1,x_2,...,x_n) = y_1 \\\\\n",
    "f_2(x_1,x_2,...,x_n) = y_2 \\\\\n",
    ". \\\\\n",
    ". \\\\\n",
    ". \\\\\n",
    "f_n(x_1,x_2,...,x_n) = y_n \\\\\n",
    "\n",
    "$$\n",
    "\n",
    "#### Siguiente el esquema de primer orden, efectuamos la expansión en serie de Taylor para cada una de las funciones que constituyen el sistema de ecuaciones no lineales.\n",
    "#### Si denominamos al vector $ x^{(0)} = [x_{1}^{(0)},x_{2}^{(0)},...,x_{n}^{(0)}]^{T} $ como vector de arranque, y suponemos que $ [\\Delta]x_1, [\\Delta]x_2, ... , [\\Delta]x_n  $ son las correcciones requeridas para que el vector $ x^{(0)} $ sea la solución, tendremos que al sustituir en la ecuación anterior:\n",
    "\n",
    "$$\n",
    "\n",
    "f_1(x_{1}^{(0)} + [\\Delta]x_1, x_{2}^{(0)}, + [\\Delta]x_2,..., x_{n}^{(0)} + [\\Delta]x_n) = y_1 \\\\\n",
    "f_2(x_{1}^{(0)} + [\\Delta]x_1, x_{2}^{(0)}, + [\\Delta]x_2,..., x_{n}^{(0)} + [\\Delta]x_n) = y_2 \\\\\n",
    ". \\\\\n",
    ". \\\\\n",
    ". \\\\\n",
    "f_n(x_{1}^{(0)} + [\\Delta]x_1, x_{2}^{(0)}, + [\\Delta]x_2,..., x_{n}^{(0)} + [\\Delta]x_n) = y_n \\\\\n",
    "\n",
    "$$\n",
    "\n",
    "#### El proceso se trabaja de forma de iterativa, en cuyo caso el sistema general seria:\n",
    "\n",
    "$$\n",
    "\n",
    "\\begin{bmatrix}\n",
    "    y_1 - f_1(x_{1}^{(k)},x_{2}^{(k)},...,x_{n}^{(k)}) \\\\\n",
    "    y_2 - f_2(x_{1}^{(k)},x_{2}^{(k)},...,x_{n}^{(k)}) \\\\\n",
    "    \n",
    "    y_n - f_n(x_{1}^{(k)},x_{2}^{(k)},...,x_{n}^{(k)}) \\\\\n",
    "\\end{bmatrix}\n",
    "=\n",
    "\\begin{bmatrix}\n",
    "\\frac{\\partial f_1}{\\partial x_1}|_k \\frac{\\partial f_1}{\\partial x_1}|_k ... \\frac{\\partial f_1}{\\partial x_n}|_k \\\\\n",
    "\\frac{\\partial f_2}{\\partial x_1}|_k \\frac{\\partial f_2}{\\partial x_1}|_k ... \\frac{\\partial f_2}{\\partial x_n}|_k \\\\\n",
    "    \n",
    "\\frac{\\partial f_n}{\\partial x_1}|_k \\frac{\\partial f_n}{\\partial x_1}|_k ... \\frac{\\partial f_n}{\\partial x_n}|_k \\\\\n",
    "\\end{bmatrix}\n",
    "\\begin{bmatrix}\n",
    "    [\\Delta]x_1 \\\\ \n",
    "    [\\Delta]x_2 \\\\ \n",
    "    ... \\\\ \n",
    "    [\\Delta]x_n\n",
    "\\end{bmatrix}\n",
    "\n",
    "$$\n",
    "\n",
    "#### Que en forma compacta seria:\n",
    "\n",
    "$$\n",
    "\n",
    "\\begin{bmatrix}\n",
    "J\n",
    "\\end{bmatrix}\n",
    "C\n",
    "=\n",
    "D\n",
    "\n",
    "$$"
   ]
  },
  {
   "cell_type": "code",
   "execution_count": 1,
   "metadata": {},
   "outputs": [],
   "source": [
    "import numpy as np"
   ]
  },
  {
   "cell_type": "code",
   "execution_count": null,
   "metadata": {},
   "outputs": [],
   "source": []
  },
  {
   "cell_type": "code",
   "execution_count": 3,
   "metadata": {},
   "outputs": [
    {
     "name": "stdout",
     "output_type": "stream",
     "text": [
      "[[ 8  3]\n",
      " [ 2 -7]]\n",
      "[[ 0.11290323  0.0483871 ]\n",
      " [ 0.03225806 -0.12903226]]\n"
     ]
    }
   ],
   "source": [
    "x = np.array([[8,3],[2,-7]]) \n",
    "y = np.linalg.inv(x) \n",
    "print(x)\n",
    "print(y)"
   ]
  }
 ],
 "metadata": {
  "kernelspec": {
   "display_name": "Python 3.10.6 64-bit",
   "language": "python",
   "name": "python3"
  },
  "language_info": {
   "codemirror_mode": {
    "name": "ipython",
    "version": 3
   },
   "file_extension": ".py",
   "mimetype": "text/x-python",
   "name": "python",
   "nbconvert_exporter": "python",
   "pygments_lexer": "ipython3",
   "version": "3.10.6"
  },
  "orig_nbformat": 4,
  "vscode": {
   "interpreter": {
    "hash": "916dbcbb3f70747c44a77c7bcd40155683ae19c65e1c03b4aa3499c5328201f1"
   }
  }
 },
 "nbformat": 4,
 "nbformat_minor": 2
}
